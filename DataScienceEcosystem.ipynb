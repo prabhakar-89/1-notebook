{
 "cells": [
  {
   "cell_type": "markdown",
   "id": "3c56a8c5-3dc7-4378-b71d-4f120e4dc191",
   "metadata": {
    "tags": []
   },
   "source": [
    "# Data Science Tools and Ecosystem"
   ]
  },
  {
   "cell_type": "markdown",
   "id": "9c940088-64aa-4eb0-8fa1-ed0058b2189a",
   "metadata": {},
   "source": [
    "In this notebook, Data Science Tools and Ecosystem are summarized."
   ]
  },
  {
   "cell_type": "markdown",
   "id": "82bc5753-5555-42ac-b527-b2d2cb38e379",
   "metadata": {},
   "source": [
    "Some of the popular languages that Data Scientist use are:\n",
    "1. Python \n",
    "2. SQL \n",
    "3. R \n",
    "4. Julia \n",
    "5. C++"
   ]
  },
  {
   "cell_type": "markdown",
   "id": "9ec0801b-bec9-49bc-a964-391ee5c7f8ac",
   "metadata": {},
   "source": [
    "Some of the commonly used libraries used by Data Scientist are:\n",
    "1. Scientific Computing Lib\n",
    "2. Python Lib\n",
    "3. Visualization Lib\n",
    "4. Deep Learning Lib"
   ]
  },
  {
   "cell_type": "markdown",
   "id": "adefe2fb-3a32-450d-a3cc-f8bf223c4642",
   "metadata": {},
   "source": [
    "|Data Science Tools|\n",
    "|------------------|\n",
    "|Jupyter Lab|\n",
    "|Anaconda|\n",
    "Visual Studio Code"
   ]
  },
  {
   "cell_type": "markdown",
   "id": "a00952a4-7865-42cf-a1db-3dff3934167a",
   "metadata": {},
   "source": [
    "### Below are few examples of evaluating arithmetic expressions in Python"
   ]
  },
  {
   "cell_type": "markdown",
   "id": "dc4da581-ff04-499f-a701-81795e5a5233",
   "metadata": {},
   "source": [
    "This is a simple arithmetic expression to multiply then add integers"
   ]
  },
  {
   "cell_type": "code",
   "execution_count": 1,
   "id": "1d5154bf-1f5f-496a-9493-c10a2cf9ca87",
   "metadata": {
    "tags": []
   },
   "outputs": [
    {
     "data": {
      "text/plain": [
       "17"
      ]
     },
     "execution_count": 1,
     "metadata": {},
     "output_type": "execute_result"
    }
   ],
   "source": [
    "(3*4)+5"
   ]
  },
  {
   "cell_type": "markdown",
   "id": "32a7c005-c00e-4ec0-92bd-bed3225ce85d",
   "metadata": {},
   "source": [
    "This will convert 200 minutes to hours by diving by 60"
   ]
  },
  {
   "cell_type": "code",
   "execution_count": 2,
   "id": "edd721f1-0f7d-4021-bdfa-7b2f49b38c2c",
   "metadata": {
    "tags": []
   },
   "outputs": [
    {
     "data": {
      "text/plain": [
       "3.3333333333333335"
      ]
     },
     "execution_count": 2,
     "metadata": {},
     "output_type": "execute_result"
    }
   ],
   "source": [
    "200/60"
   ]
  },
  {
   "cell_type": "markdown",
   "id": "4b4ccee3-6d7b-41a1-89a1-5e753b386fa9",
   "metadata": {
    "tags": []
   },
   "source": [
    "**Objectives:**\n",
    "- List of libraries\n",
    "- Hours to minutes\n",
    "- Data Science Tools\n",
    "- Data Science Languages"
   ]
  },
  {
   "cell_type": "markdown",
   "id": "04bc2b94-39a5-4d1e-9e35-8e8e8c651738",
   "metadata": {},
   "source": [
    "## Author"
   ]
  },
  {
   "cell_type": "markdown",
   "id": "45263a75-edb7-468c-bbe2-87bf2b7919f5",
   "metadata": {},
   "source": [
    "Prabhakar"
   ]
  },
  {
   "cell_type": "code",
   "execution_count": null,
   "id": "da7957dc-7063-4a10-a72f-7ae0ef3d06bc",
   "metadata": {},
   "outputs": [],
   "source": []
  }
 ],
 "metadata": {
  "kernelspec": {
   "display_name": "Python",
   "language": "python",
   "name": "conda-env-python-py"
  },
  "language_info": {
   "codemirror_mode": {
    "name": "ipython",
    "version": 3
   },
   "file_extension": ".py",
   "mimetype": "text/x-python",
   "name": "python",
   "nbconvert_exporter": "python",
   "pygments_lexer": "ipython3",
   "version": "3.7.12"
  }
 },
 "nbformat": 4,
 "nbformat_minor": 5
}
